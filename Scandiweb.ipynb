{
 "cells": [
  {
   "cell_type": "markdown",
   "id": "efdc922c",
   "metadata": {},
   "source": [
    "### Import Libraries\n"
   ]
  },
  {
   "cell_type": "code",
   "execution_count": 7,
   "id": "b7719763",
   "metadata": {},
   "outputs": [],
   "source": [
    "import pandas as pd \n",
    "import numpy as np"
   ]
  },
  {
   "cell_type": "markdown",
   "id": "f4286d52",
   "metadata": {},
   "source": [
    "### Import Data"
   ]
  },
  {
   "cell_type": "code",
   "execution_count": 2,
   "id": "fe1bd0aa",
   "metadata": {},
   "outputs": [],
   "source": [
    "df = pd.read_csv(r'C:\\Users\\HOLA00067621\\OneDrive - Noblex LTD\\Desktop\\Data analyst test task dataset - Scandiweb.csv')"
   ]
  },
  {
   "cell_type": "markdown",
   "id": "9ff5d0cc",
   "metadata": {},
   "source": [
    "### EDA"
   ]
  },
  {
   "cell_type": "code",
   "execution_count": 3,
   "id": "8c575906",
   "metadata": {},
   "outputs": [
    {
     "name": "stdout",
     "output_type": "stream",
     "text": [
      "<class 'pandas.core.frame.DataFrame'>\n",
      "RangeIndex: 711189 entries, 0 to 711188\n",
      "Data columns (total 10 columns):\n",
      " #   Column                 Non-Null Count   Dtype  \n",
      "---  ------                 --------------   -----  \n",
      " 0   event_date             711189 non-null  int64  \n",
      " 1   event_name             711189 non-null  object \n",
      " 2   channel_grouping_user  711189 non-null  object \n",
      " 3   device_category        711189 non-null  object \n",
      " 4   session_id             711189 non-null  int64  \n",
      " 5   user_pseudo_id         711189 non-null  float64\n",
      " 6   item_category          259699 non-null  object \n",
      " 7   unique_items           259699 non-null  float64\n",
      " 8   item_quantity          259699 non-null  float64\n",
      " 9   revenue                1240 non-null    float64\n",
      "dtypes: float64(4), int64(2), object(4)\n",
      "memory usage: 54.3+ MB\n"
     ]
    }
   ],
   "source": [
    "df.info()"
   ]
  },
  {
   "cell_type": "code",
   "execution_count": 5,
   "id": "cb6506ed",
   "metadata": {},
   "outputs": [
    {
     "data": {
      "text/html": [
       "<div>\n",
       "<style scoped>\n",
       "    .dataframe tbody tr th:only-of-type {\n",
       "        vertical-align: middle;\n",
       "    }\n",
       "\n",
       "    .dataframe tbody tr th {\n",
       "        vertical-align: top;\n",
       "    }\n",
       "\n",
       "    .dataframe thead th {\n",
       "        text-align: right;\n",
       "    }\n",
       "</style>\n",
       "<table border=\"1\" class=\"dataframe\">\n",
       "  <thead>\n",
       "    <tr style=\"text-align: right;\">\n",
       "      <th></th>\n",
       "      <th>event_date</th>\n",
       "      <th>event_name</th>\n",
       "      <th>channel_grouping_user</th>\n",
       "      <th>device_category</th>\n",
       "      <th>session_id</th>\n",
       "      <th>user_pseudo_id</th>\n",
       "      <th>item_category</th>\n",
       "      <th>unique_items</th>\n",
       "      <th>item_quantity</th>\n",
       "      <th>revenue</th>\n",
       "    </tr>\n",
       "  </thead>\n",
       "  <tbody>\n",
       "    <tr>\n",
       "      <th>0</th>\n",
       "      <td>2022-10-01</td>\n",
       "      <td>session_start</td>\n",
       "      <td>Paid Search</td>\n",
       "      <td>mobile</td>\n",
       "      <td>1664651196</td>\n",
       "      <td>1.029658e+09</td>\n",
       "      <td>NaN</td>\n",
       "      <td>NaN</td>\n",
       "      <td>NaN</td>\n",
       "      <td>NaN</td>\n",
       "    </tr>\n",
       "    <tr>\n",
       "      <th>1</th>\n",
       "      <td>2022-10-01</td>\n",
       "      <td>session_start</td>\n",
       "      <td>Paid Search</td>\n",
       "      <td>mobile</td>\n",
       "      <td>1664656701</td>\n",
       "      <td>1.147645e+09</td>\n",
       "      <td>NaN</td>\n",
       "      <td>NaN</td>\n",
       "      <td>NaN</td>\n",
       "      <td>NaN</td>\n",
       "    </tr>\n",
       "    <tr>\n",
       "      <th>2</th>\n",
       "      <td>2022-10-01</td>\n",
       "      <td>session_start</td>\n",
       "      <td>Paid Search</td>\n",
       "      <td>mobile</td>\n",
       "      <td>1664643763</td>\n",
       "      <td>1.483774e+07</td>\n",
       "      <td>NaN</td>\n",
       "      <td>NaN</td>\n",
       "      <td>NaN</td>\n",
       "      <td>NaN</td>\n",
       "    </tr>\n",
       "    <tr>\n",
       "      <th>3</th>\n",
       "      <td>2022-10-01</td>\n",
       "      <td>view_search_results</td>\n",
       "      <td>Paid Search</td>\n",
       "      <td>mobile</td>\n",
       "      <td>1664643763</td>\n",
       "      <td>1.483774e+07</td>\n",
       "      <td>NaN</td>\n",
       "      <td>NaN</td>\n",
       "      <td>NaN</td>\n",
       "      <td>NaN</td>\n",
       "    </tr>\n",
       "    <tr>\n",
       "      <th>4</th>\n",
       "      <td>2022-10-01</td>\n",
       "      <td>session_start</td>\n",
       "      <td>Paid Search</td>\n",
       "      <td>mobile</td>\n",
       "      <td>1664669276</td>\n",
       "      <td>1.618377e+09</td>\n",
       "      <td>NaN</td>\n",
       "      <td>NaN</td>\n",
       "      <td>NaN</td>\n",
       "      <td>NaN</td>\n",
       "    </tr>\n",
       "  </tbody>\n",
       "</table>\n",
       "</div>"
      ],
      "text/plain": [
       "  event_date           event_name channel_grouping_user device_category  \\\n",
       "0 2022-10-01        session_start           Paid Search          mobile   \n",
       "1 2022-10-01        session_start           Paid Search          mobile   \n",
       "2 2022-10-01        session_start           Paid Search          mobile   \n",
       "3 2022-10-01  view_search_results           Paid Search          mobile   \n",
       "4 2022-10-01        session_start           Paid Search          mobile   \n",
       "\n",
       "   session_id  user_pseudo_id item_category  unique_items  item_quantity  \\\n",
       "0  1664651196    1.029658e+09           NaN           NaN            NaN   \n",
       "1  1664656701    1.147645e+09           NaN           NaN            NaN   \n",
       "2  1664643763    1.483774e+07           NaN           NaN            NaN   \n",
       "3  1664643763    1.483774e+07           NaN           NaN            NaN   \n",
       "4  1664669276    1.618377e+09           NaN           NaN            NaN   \n",
       "\n",
       "   revenue  \n",
       "0      NaN  \n",
       "1      NaN  \n",
       "2      NaN  \n",
       "3      NaN  \n",
       "4      NaN  "
      ]
     },
     "execution_count": 5,
     "metadata": {},
     "output_type": "execute_result"
    }
   ],
   "source": [
    "df['event_date'] = pd.to_datetime(df['event_date'].astype(str), format='%Y-%m-%d')\n",
    "df.head(5)"
   ]
  },
  {
   "cell_type": "markdown",
   "id": "570b26e9",
   "metadata": {},
   "source": [
    "Let's see some basic statistical information "
   ]
  },
  {
   "cell_type": "code",
   "execution_count": 53,
   "id": "4558c54b",
   "metadata": {},
   "outputs": [
    {
     "data": {
      "text/html": [
       "<div>\n",
       "<style scoped>\n",
       "    .dataframe tbody tr th:only-of-type {\n",
       "        vertical-align: middle;\n",
       "    }\n",
       "\n",
       "    .dataframe tbody tr th {\n",
       "        vertical-align: top;\n",
       "    }\n",
       "\n",
       "    .dataframe thead th {\n",
       "        text-align: right;\n",
       "    }\n",
       "</style>\n",
       "<table border=\"1\" class=\"dataframe\">\n",
       "  <thead>\n",
       "    <tr style=\"text-align: right;\">\n",
       "      <th></th>\n",
       "      <th>session_id</th>\n",
       "      <th>user_pseudo_id</th>\n",
       "      <th>unique_items</th>\n",
       "      <th>item_quantity</th>\n",
       "      <th>revenue</th>\n",
       "    </tr>\n",
       "  </thead>\n",
       "  <tbody>\n",
       "    <tr>\n",
       "      <th>count</th>\n",
       "      <td>7.111890e+05</td>\n",
       "      <td>7.111890e+05</td>\n",
       "      <td>259699.000000</td>\n",
       "      <td>259699.000000</td>\n",
       "      <td>1.240000e+03</td>\n",
       "    </tr>\n",
       "    <tr>\n",
       "      <th>mean</th>\n",
       "      <td>1.665992e+09</td>\n",
       "      <td>1.081198e+09</td>\n",
       "      <td>4.863265</td>\n",
       "      <td>4.892364</td>\n",
       "      <td>3.269346e+10</td>\n",
       "    </tr>\n",
       "    <tr>\n",
       "      <th>std</th>\n",
       "      <td>7.773743e+05</td>\n",
       "      <td>6.229386e+08</td>\n",
       "      <td>10.351497</td>\n",
       "      <td>10.384965</td>\n",
       "      <td>9.802637e+11</td>\n",
       "    </tr>\n",
       "    <tr>\n",
       "      <th>min</th>\n",
       "      <td>1.663071e+09</td>\n",
       "      <td>2.292617e+04</td>\n",
       "      <td>1.000000</td>\n",
       "      <td>1.000000</td>\n",
       "      <td>4.990000e+00</td>\n",
       "    </tr>\n",
       "    <tr>\n",
       "      <th>25%</th>\n",
       "      <td>1.665321e+09</td>\n",
       "      <td>5.231800e+08</td>\n",
       "      <td>1.000000</td>\n",
       "      <td>1.000000</td>\n",
       "      <td>6.031250e+01</td>\n",
       "    </tr>\n",
       "    <tr>\n",
       "      <th>50%</th>\n",
       "      <td>1.666041e+09</td>\n",
       "      <td>1.084561e+09</td>\n",
       "      <td>2.000000</td>\n",
       "      <td>2.000000</td>\n",
       "      <td>1.504500e+02</td>\n",
       "    </tr>\n",
       "    <tr>\n",
       "      <th>75%</th>\n",
       "      <td>1.666679e+09</td>\n",
       "      <td>1.624122e+09</td>\n",
       "      <td>5.000000</td>\n",
       "      <td>5.000000</td>\n",
       "      <td>3.342175e+02</td>\n",
       "    </tr>\n",
       "    <tr>\n",
       "      <th>max</th>\n",
       "      <td>1.667285e+09</td>\n",
       "      <td>2.147482e+09</td>\n",
       "      <td>408.000000</td>\n",
       "      <td>408.000000</td>\n",
       "      <td>3.430000e+13</td>\n",
       "    </tr>\n",
       "  </tbody>\n",
       "</table>\n",
       "</div>"
      ],
      "text/plain": [
       "         session_id  user_pseudo_id   unique_items  item_quantity  \\\n",
       "count  7.111890e+05    7.111890e+05  259699.000000  259699.000000   \n",
       "mean   1.665992e+09    1.081198e+09       4.863265       4.892364   \n",
       "std    7.773743e+05    6.229386e+08      10.351497      10.384965   \n",
       "min    1.663071e+09    2.292617e+04       1.000000       1.000000   \n",
       "25%    1.665321e+09    5.231800e+08       1.000000       1.000000   \n",
       "50%    1.666041e+09    1.084561e+09       2.000000       2.000000   \n",
       "75%    1.666679e+09    1.624122e+09       5.000000       5.000000   \n",
       "max    1.667285e+09    2.147482e+09     408.000000     408.000000   \n",
       "\n",
       "            revenue  \n",
       "count  1.240000e+03  \n",
       "mean   3.269346e+10  \n",
       "std    9.802637e+11  \n",
       "min    4.990000e+00  \n",
       "25%    6.031250e+01  \n",
       "50%    1.504500e+02  \n",
       "75%    3.342175e+02  \n",
       "max    3.430000e+13  "
      ]
     },
     "execution_count": 53,
     "metadata": {},
     "output_type": "execute_result"
    }
   ],
   "source": [
    "df.describe()"
   ]
  },
  {
   "cell_type": "markdown",
   "id": "5ea89c9f",
   "metadata": {},
   "source": [
    "More understandable information we can receive from describing the 'object' columns"
   ]
  },
  {
   "cell_type": "code",
   "execution_count": 54,
   "id": "92816814",
   "metadata": {},
   "outputs": [
    {
     "data": {
      "text/html": [
       "<div>\n",
       "<style scoped>\n",
       "    .dataframe tbody tr th:only-of-type {\n",
       "        vertical-align: middle;\n",
       "    }\n",
       "\n",
       "    .dataframe tbody tr th {\n",
       "        vertical-align: top;\n",
       "    }\n",
       "\n",
       "    .dataframe thead th {\n",
       "        text-align: right;\n",
       "    }\n",
       "</style>\n",
       "<table border=\"1\" class=\"dataframe\">\n",
       "  <thead>\n",
       "    <tr style=\"text-align: right;\">\n",
       "      <th></th>\n",
       "      <th>event_name</th>\n",
       "      <th>channel_grouping_user</th>\n",
       "      <th>device_category</th>\n",
       "      <th>item_category</th>\n",
       "    </tr>\n",
       "  </thead>\n",
       "  <tbody>\n",
       "    <tr>\n",
       "      <th>count</th>\n",
       "      <td>711189</td>\n",
       "      <td>711189</td>\n",
       "      <td>711189</td>\n",
       "      <td>259699</td>\n",
       "    </tr>\n",
       "    <tr>\n",
       "      <th>unique</th>\n",
       "      <td>6</td>\n",
       "      <td>11</td>\n",
       "      <td>4</td>\n",
       "      <td>36</td>\n",
       "    </tr>\n",
       "    <tr>\n",
       "      <th>top</th>\n",
       "      <td>view_search_results</td>\n",
       "      <td>Paid Search</td>\n",
       "      <td>mobile</td>\n",
       "      <td>Electronics</td>\n",
       "    </tr>\n",
       "    <tr>\n",
       "      <th>freq</th>\n",
       "      <td>248194</td>\n",
       "      <td>212546</td>\n",
       "      <td>502196</td>\n",
       "      <td>56351</td>\n",
       "    </tr>\n",
       "  </tbody>\n",
       "</table>\n",
       "</div>"
      ],
      "text/plain": [
       "                 event_name channel_grouping_user device_category  \\\n",
       "count                711189                711189          711189   \n",
       "unique                    6                    11               4   \n",
       "top     view_search_results           Paid Search          mobile   \n",
       "freq                 248194                212546          502196   \n",
       "\n",
       "       item_category  \n",
       "count         259699  \n",
       "unique            36  \n",
       "top      Electronics  \n",
       "freq           56351  "
      ]
     },
     "execution_count": 54,
     "metadata": {},
     "output_type": "execute_result"
    }
   ],
   "source": [
    "df.describe(include='object')"
   ]
  },
  {
   "cell_type": "markdown",
   "id": "d7e4b835",
   "metadata": {},
   "source": [
    "# Defining KPIs"
   ]
  },
  {
   "cell_type": "markdown",
   "id": "4674fc54",
   "metadata": {},
   "source": [
    "### Getting distinct users number"
   ]
  },
  {
   "cell_type": "code",
   "execution_count": 51,
   "id": "ceffd6ed",
   "metadata": {},
   "outputs": [
    {
     "data": {
      "text/plain": [
       "111544"
      ]
     },
     "execution_count": 51,
     "metadata": {},
     "output_type": "execute_result"
    }
   ],
   "source": [
    "df['user_pseudo_id'].nunique()"
   ]
  },
  {
   "cell_type": "markdown",
   "id": "2ad14fb8",
   "metadata": {},
   "source": [
    "### It is interesting how many unique customers purchused product from the store "
   ]
  },
  {
   "cell_type": "code",
   "execution_count": 11,
   "id": "00c4e133",
   "metadata": {},
   "outputs": [
    {
     "data": {
      "text/plain": [
       "user_pseudo_id    731\n",
       "dtype: int64"
      ]
     },
     "execution_count": 11,
     "metadata": {},
     "output_type": "execute_result"
    }
   ],
   "source": [
    "df.loc[df['event_name'] == 'purchase',['user_pseudo_id']].nunique()"
   ]
  },
  {
   "cell_type": "markdown",
   "id": "cb8fbdd4",
   "metadata": {},
   "source": [
    "### And how many of them purchased item more than once (iteracy dependent)"
   ]
  },
  {
   "cell_type": "code",
   "execution_count": 48,
   "id": "b4d11ff7",
   "metadata": {},
   "outputs": [
    {
     "data": {
      "text/plain": [
       "user_pseudo_id\n",
       "1.402489e+08    21\n",
       "5.117778e+08    16\n",
       "7.295404e+07    14\n",
       "8.426301e+08    10\n",
       "1.719989e+09    10\n",
       "                ..\n",
       "1.894015e+09     2\n",
       "1.298368e+09     1\n",
       "1.896138e+09     1\n",
       "1.398495e+09     1\n",
       "1.023577e+09     1\n",
       "Name: revenue, Length: 235, dtype: int64"
      ]
     },
     "execution_count": 48,
     "metadata": {},
     "output_type": "execute_result"
    }
   ],
   "source": [
    "d = df.groupby('user_pseudo_id')['revenue'].count().sort_values(ascending=False)\n",
    "d.head(235)"
   ]
  },
  {
   "cell_type": "markdown",
   "id": "4ce619b1",
   "metadata": {},
   "source": [
    "### Let's see unique sessions number"
   ]
  },
  {
   "cell_type": "code",
   "execution_count": 55,
   "id": "063c1ccd",
   "metadata": {},
   "outputs": [
    {
     "data": {
      "text/plain": [
       "194051"
      ]
     },
     "execution_count": 55,
     "metadata": {},
     "output_type": "execute_result"
    }
   ],
   "source": [
    "df['session_id'].nunique()"
   ]
  },
  {
   "cell_type": "markdown",
   "id": "b59d26eb",
   "metadata": {},
   "source": [
    "### Let's calculate the Conversion Rate. Let's take purchase as a \"Desired action\". When purchase is done, we receive revenue. It means, we have to divide 1234 (purchase actions) on 111547 (distinct users). "
   ]
  },
  {
   "cell_type": "code",
   "execution_count": 65,
   "id": "34080841",
   "metadata": {
    "scrolled": true
   },
   "outputs": [
    {
     "data": {
      "text/plain": [
       "revenue    1.10629\n",
       "dtype: float64"
      ]
     },
     "execution_count": 65,
     "metadata": {},
     "output_type": "execute_result"
    }
   ],
   "source": [
    "df.loc[df['event_name'] == 'purchase',['revenue']].count() / df['user_pseudo_id'].nunique() * 100"
   ]
  },
  {
   "cell_type": "markdown",
   "id": "36e68cac",
   "metadata": {},
   "source": [
    "### We can also take 'begin_checkout' and 'add_to_cart' records as KPIs to see and evaluate one the one hand how many people are not finishing the payment process and on the other hand how many users are not starting check out process at all. "
   ]
  },
  {
   "cell_type": "code",
   "execution_count": 66,
   "id": "58ddfffc",
   "metadata": {},
   "outputs": [
    {
     "data": {
      "text/plain": [
       "event_date               2.672488\n",
       "event_name               2.672488\n",
       "channel_grouping_user    2.672488\n",
       "device_category          2.672488\n",
       "session_id               2.672488\n",
       "user_pseudo_id           2.672488\n",
       "item_category            2.672488\n",
       "unique_items             2.672488\n",
       "item_quantity            2.672488\n",
       "revenue                  0.000897\n",
       "dtype: float64"
      ]
     },
     "execution_count": 66,
     "metadata": {},
     "output_type": "execute_result"
    }
   ],
   "source": [
    "df.loc[df['event_name'] == 'begin_checkout'].count() / df['user_pseudo_id'].nunique() * 100"
   ]
  },
  {
   "cell_type": "code",
   "execution_count": 67,
   "id": "f78d89ae",
   "metadata": {},
   "outputs": [
    {
     "data": {
      "text/plain": [
       "event_date               23.943018\n",
       "event_name               23.943018\n",
       "channel_grouping_user    23.943018\n",
       "device_category          23.943018\n",
       "session_id               23.943018\n",
       "user_pseudo_id           23.943018\n",
       "item_category            23.943018\n",
       "unique_items             23.943018\n",
       "item_quantity            23.943018\n",
       "revenue                   0.000000\n",
       "dtype: float64"
      ]
     },
     "execution_count": 67,
     "metadata": {},
     "output_type": "execute_result"
    }
   ],
   "source": [
    "df.loc[df['event_name'] == 'add_to_cart'].count() / df['user_pseudo_id'].nunique() * 100"
   ]
  },
  {
   "cell_type": "markdown",
   "id": "43248bec",
   "metadata": {},
   "source": [
    "# Main user acquisition channel performance"
   ]
  },
  {
   "cell_type": "code",
   "execution_count": 68,
   "id": "725bde69",
   "metadata": {},
   "outputs": [
    {
     "data": {
      "text/plain": [
       "channel_grouping_user\n",
       "Paid Search                  212546\n",
       "Direct                       180745\n",
       "Organic Search                98179\n",
       "Organic Social                84318\n",
       "Display                       69262\n",
       "Unassigned                    31538\n",
       "Paid Social                   16656\n",
       "Email                         12467\n",
       "Mobile Push Notifications      4812\n",
       "Referral                        662\n",
       "Organic Shopping                  4\n",
       "Name: event_name, dtype: int64"
      ]
     },
     "execution_count": 68,
     "metadata": {},
     "output_type": "execute_result"
    }
   ],
   "source": [
    "df.groupby('channel_grouping_user')['event_name'].count().sort_values(ascending=False)"
   ]
  },
  {
   "cell_type": "code",
   "execution_count": 69,
   "id": "a6e8cfff",
   "metadata": {},
   "outputs": [
    {
     "name": "stdout",
     "output_type": "stream",
     "text": [
      "channel_grouping_user\n",
      "Direct                       569\n",
      "Paid Search                  302\n",
      "Organic Search               234\n",
      "Organic Social                51\n",
      "Email                         48\n",
      "Display                       16\n",
      "Unassigned                    10\n",
      "Paid Social                    9\n",
      "Referral                       1\n",
      "Mobile Push Notifications      0\n",
      "Organic Shopping               0\n",
      "Name: revenue, dtype: int64\n"
     ]
    }
   ],
   "source": [
    "a = df.groupby('channel_grouping_user')['revenue'].count().sort_values(ascending=False)\n",
    "print(a)"
   ]
  },
  {
   "cell_type": "markdown",
   "id": "142f8c66",
   "metadata": {},
   "source": [
    "# Review data across the main device combinations and spot how they perform"
   ]
  },
  {
   "cell_type": "code",
   "execution_count": 70,
   "id": "351ff3bc",
   "metadata": {},
   "outputs": [
    {
     "data": {
      "text/html": [
       "<div>\n",
       "<style scoped>\n",
       "    .dataframe tbody tr th:only-of-type {\n",
       "        vertical-align: middle;\n",
       "    }\n",
       "\n",
       "    .dataframe tbody tr th {\n",
       "        vertical-align: top;\n",
       "    }\n",
       "\n",
       "    .dataframe thead th {\n",
       "        text-align: right;\n",
       "    }\n",
       "</style>\n",
       "<table border=\"1\" class=\"dataframe\">\n",
       "  <thead>\n",
       "    <tr style=\"text-align: right;\">\n",
       "      <th></th>\n",
       "      <th>event_date</th>\n",
       "      <th>event_name</th>\n",
       "      <th>channel_grouping_user</th>\n",
       "      <th>session_id</th>\n",
       "      <th>user_pseudo_id</th>\n",
       "      <th>item_category</th>\n",
       "      <th>unique_items</th>\n",
       "      <th>item_quantity</th>\n",
       "      <th>revenue</th>\n",
       "    </tr>\n",
       "    <tr>\n",
       "      <th>device_category</th>\n",
       "      <th></th>\n",
       "      <th></th>\n",
       "      <th></th>\n",
       "      <th></th>\n",
       "      <th></th>\n",
       "      <th></th>\n",
       "      <th></th>\n",
       "      <th></th>\n",
       "      <th></th>\n",
       "    </tr>\n",
       "  </thead>\n",
       "  <tbody>\n",
       "    <tr>\n",
       "      <th>desktop</th>\n",
       "      <td>175422</td>\n",
       "      <td>175422</td>\n",
       "      <td>175422</td>\n",
       "      <td>175422</td>\n",
       "      <td>175422</td>\n",
       "      <td>83691</td>\n",
       "      <td>83691</td>\n",
       "      <td>83691</td>\n",
       "      <td>480</td>\n",
       "    </tr>\n",
       "    <tr>\n",
       "      <th>mobile</th>\n",
       "      <td>502196</td>\n",
       "      <td>502196</td>\n",
       "      <td>502196</td>\n",
       "      <td>502196</td>\n",
       "      <td>502196</td>\n",
       "      <td>163030</td>\n",
       "      <td>163030</td>\n",
       "      <td>163030</td>\n",
       "      <td>716</td>\n",
       "    </tr>\n",
       "    <tr>\n",
       "      <th>smart tv</th>\n",
       "      <td>2678</td>\n",
       "      <td>2678</td>\n",
       "      <td>2678</td>\n",
       "      <td>2678</td>\n",
       "      <td>2678</td>\n",
       "      <td>774</td>\n",
       "      <td>774</td>\n",
       "      <td>774</td>\n",
       "      <td>0</td>\n",
       "    </tr>\n",
       "    <tr>\n",
       "      <th>tablet</th>\n",
       "      <td>30893</td>\n",
       "      <td>30893</td>\n",
       "      <td>30893</td>\n",
       "      <td>30893</td>\n",
       "      <td>30893</td>\n",
       "      <td>12204</td>\n",
       "      <td>12204</td>\n",
       "      <td>12204</td>\n",
       "      <td>44</td>\n",
       "    </tr>\n",
       "  </tbody>\n",
       "</table>\n",
       "</div>"
      ],
      "text/plain": [
       "                 event_date  event_name  channel_grouping_user  session_id  \\\n",
       "device_category                                                              \n",
       "desktop              175422      175422                 175422      175422   \n",
       "mobile               502196      502196                 502196      502196   \n",
       "smart tv               2678        2678                   2678        2678   \n",
       "tablet                30893       30893                  30893       30893   \n",
       "\n",
       "                 user_pseudo_id  item_category  unique_items  item_quantity  \\\n",
       "device_category                                                               \n",
       "desktop                  175422          83691         83691          83691   \n",
       "mobile                   502196         163030        163030         163030   \n",
       "smart tv                   2678            774           774            774   \n",
       "tablet                    30893          12204         12204          12204   \n",
       "\n",
       "                 revenue  \n",
       "device_category           \n",
       "desktop              480  \n",
       "mobile               716  \n",
       "smart tv               0  \n",
       "tablet                44  "
      ]
     },
     "execution_count": 70,
     "metadata": {},
     "output_type": "execute_result"
    }
   ],
   "source": [
    "df.groupby('device_category').count()"
   ]
  },
  {
   "cell_type": "code",
   "execution_count": 71,
   "id": "e587567a",
   "metadata": {},
   "outputs": [
    {
     "name": "stdout",
     "output_type": "stream",
     "text": [
      "device_category\n",
      "mobile      716\n",
      "desktop     480\n",
      "tablet       44\n",
      "smart tv      0\n",
      "Name: revenue, dtype: int64\n"
     ]
    }
   ],
   "source": [
    "b = df.groupby('device_category')['revenue'].count().sort_values(ascending=False)\n",
    "print(b)"
   ]
  },
  {
   "cell_type": "markdown",
   "id": "90829a05",
   "metadata": {},
   "source": [
    "# Exploring item category data"
   ]
  },
  {
   "cell_type": "markdown",
   "id": "0be80565",
   "metadata": {},
   "source": [
    "#### Which categories are manipulated (viewed, added to cart, starting to check out, purchased) mostly"
   ]
  },
  {
   "cell_type": "code",
   "execution_count": 72,
   "id": "f827cc53",
   "metadata": {},
   "outputs": [
    {
     "data": {
      "text/plain": [
       "Electronics                          56351\n",
       "Home & Kitchen                       34605\n",
       "Clothing, Shoes & Jewelry            22639\n",
       "Appliances                           20604\n",
       "Sports & Outdoors                    17016\n",
       "Cell Phones & Accessories            14196\n",
       "Beauty & Personal Care               10649\n",
       "Automotive                            9213\n",
       "Tools & Home Improvement              7956\n",
       "Patio, Lawn & Garden                  7918\n",
       "Video Games                           7411\n",
       "Industrial & Scientific               7261\n",
       "Health & Household                    7147\n",
       "Toys & Games                          7012\n",
       "Baby Products                         6125\n",
       "Arts, Crafts & Sewing                 5708\n",
       "Office Products                       4946\n",
       "Musical Instruments                   3479\n",
       "Pet Supplies                          2637\n",
       "Amazon Devices                        1351\n",
       "Health, Household & Baby Care         1120\n",
       "Handmade Products                     1104\n",
       "Grocery & Gourmet Food                 769\n",
       "Automotive Parts & Accessories         749\n",
       "Books                                  539\n",
       "Garden & Outdoor                       520\n",
       "Baby                                   271\n",
       "Handmade                               186\n",
       "Collectibles & Fine Art                112\n",
       "Wearable Technology                     45\n",
       "Todos los departamentos                 33\n",
       "CDs & Vinyl                              8\n",
       "Lighting Assemblies & Accessories        7\n",
       "Magazine Subscriptions                   6\n",
       "Movies & TV                              4\n",
       "Entertainment Collectibles               2\n",
       "Name: item_category, dtype: int64"
      ]
     },
     "execution_count": 72,
     "metadata": {},
     "output_type": "execute_result"
    }
   ],
   "source": [
    "df['item_category'].value_counts()"
   ]
  },
  {
   "cell_type": "markdown",
   "id": "5d842574",
   "metadata": {},
   "source": [
    "#### Categories that are purchased mostly "
   ]
  },
  {
   "cell_type": "code",
   "execution_count": 73,
   "id": "f5470480",
   "metadata": {},
   "outputs": [
    {
     "name": "stdout",
     "output_type": "stream",
     "text": [
      "item_category\n",
      "Electronics                          325\n",
      "Home & Kitchen                       138\n",
      "Clothing, Shoes & Jewelry             82\n",
      "Appliances                            77\n",
      "Beauty & Personal Care                71\n",
      "Health & Household                    69\n",
      "Sports & Outdoors                     66\n",
      "Cell Phones & Accessories             65\n",
      "Automotive                            65\n",
      "Patio, Lawn & Garden                  40\n",
      "Tools & Home Improvement              40\n",
      "Industrial & Scientific               35\n",
      "Office Products                       29\n",
      "Baby Products                         25\n",
      "Arts, Crafts & Sewing                 21\n",
      "Video Games                           20\n",
      "Toys & Games                          16\n",
      "Pet Supplies                          12\n",
      "Health, Household & Baby Care         10\n",
      "Musical Instruments                    9\n",
      "Garden & Outdoor                       6\n",
      "Amazon Devices                         5\n",
      "Automotive Parts & Accessories         4\n",
      "Grocery & Gourmet Food                 3\n",
      "Books                                  1\n",
      "Baby                                   1\n",
      "Todos los departamentos                0\n",
      "Handmade Products                      0\n",
      "Movies & TV                            0\n",
      "Magazine Subscriptions                 0\n",
      "Lighting Assemblies & Accessories      0\n",
      "Handmade                               0\n",
      "Entertainment Collectibles             0\n",
      "Collectibles & Fine Art                0\n",
      "CDs & Vinyl                            0\n",
      "Wearable Technology                    0\n",
      "Name: revenue, dtype: int64\n"
     ]
    }
   ],
   "source": [
    "c = df.groupby('item_category')['revenue'].count().sort_values(ascending=False) \n",
    "print(c)"
   ]
  },
  {
   "cell_type": "markdown",
   "id": "dd3b9295",
   "metadata": {},
   "source": [
    "#### Categories that bring the highest revenue"
   ]
  },
  {
   "cell_type": "code",
   "execution_count": 108,
   "id": "d89d5e96",
   "metadata": {},
   "outputs": [
    {
     "data": {
      "text/html": [
       "<div>\n",
       "<style scoped>\n",
       "    .dataframe tbody tr th:only-of-type {\n",
       "        vertical-align: middle;\n",
       "    }\n",
       "\n",
       "    .dataframe tbody tr th {\n",
       "        vertical-align: top;\n",
       "    }\n",
       "\n",
       "    .dataframe thead tr th {\n",
       "        text-align: left;\n",
       "    }\n",
       "\n",
       "    .dataframe thead tr:last-of-type th {\n",
       "        text-align: right;\n",
       "    }\n",
       "</style>\n",
       "<table border=\"1\" class=\"dataframe\">\n",
       "  <thead>\n",
       "    <tr>\n",
       "      <th></th>\n",
       "      <th>revenue</th>\n",
       "    </tr>\n",
       "    <tr>\n",
       "      <th></th>\n",
       "      <th>sum</th>\n",
       "    </tr>\n",
       "    <tr>\n",
       "      <th>item_category</th>\n",
       "      <th></th>\n",
       "    </tr>\n",
       "  </thead>\n",
       "  <tbody>\n",
       "    <tr>\n",
       "      <th>Amazon Devices</th>\n",
       "      <td>2316.43000</td>\n",
       "    </tr>\n",
       "    <tr>\n",
       "      <th>Appliances</th>\n",
       "      <td>24723.86418</td>\n",
       "    </tr>\n",
       "    <tr>\n",
       "      <th>Arts, Crafts &amp; Sewing</th>\n",
       "      <td>10837.76206</td>\n",
       "    </tr>\n",
       "    <tr>\n",
       "      <th>Automotive</th>\n",
       "      <td>11512.23009</td>\n",
       "    </tr>\n",
       "    <tr>\n",
       "      <th>Automotive Parts &amp; Accessories</th>\n",
       "      <td>1544.41000</td>\n",
       "    </tr>\n",
       "    <tr>\n",
       "      <th>Baby</th>\n",
       "      <td>29.72000</td>\n",
       "    </tr>\n",
       "    <tr>\n",
       "      <th>Baby Products</th>\n",
       "      <td>8434.81060</td>\n",
       "    </tr>\n",
       "    <tr>\n",
       "      <th>Beauty &amp; Personal Care</th>\n",
       "      <td>21716.81000</td>\n",
       "    </tr>\n",
       "    <tr>\n",
       "      <th>Books</th>\n",
       "      <td>184.06000</td>\n",
       "    </tr>\n",
       "    <tr>\n",
       "      <th>Cell Phones &amp; Accessories</th>\n",
       "      <td>23342.77269</td>\n",
       "    </tr>\n",
       "    <tr>\n",
       "      <th>Clothing, Shoes &amp; Jewelry</th>\n",
       "      <td>43791.64255</td>\n",
       "    </tr>\n",
       "    <tr>\n",
       "      <th>Electronics</th>\n",
       "      <td>113542.15526</td>\n",
       "    </tr>\n",
       "    <tr>\n",
       "      <th>Garden &amp; Outdoor</th>\n",
       "      <td>2269.62000</td>\n",
       "    </tr>\n",
       "    <tr>\n",
       "      <th>Grocery &amp; Gourmet Food</th>\n",
       "      <td>766.18000</td>\n",
       "    </tr>\n",
       "    <tr>\n",
       "      <th>Health &amp; Household</th>\n",
       "      <td>17359.04432</td>\n",
       "    </tr>\n",
       "    <tr>\n",
       "      <th>Health, Household &amp; Baby Care</th>\n",
       "      <td>1998.98000</td>\n",
       "    </tr>\n",
       "    <tr>\n",
       "      <th>Home &amp; Kitchen</th>\n",
       "      <td>80046.51975</td>\n",
       "    </tr>\n",
       "    <tr>\n",
       "      <th>Industrial &amp; Scientific</th>\n",
       "      <td>8229.67000</td>\n",
       "    </tr>\n",
       "    <tr>\n",
       "      <th>Musical Instruments</th>\n",
       "      <td>5599.60695</td>\n",
       "    </tr>\n",
       "    <tr>\n",
       "      <th>Office Products</th>\n",
       "      <td>9128.02567</td>\n",
       "    </tr>\n",
       "    <tr>\n",
       "      <th>Patio, Lawn &amp; Garden</th>\n",
       "      <td>17079.53000</td>\n",
       "    </tr>\n",
       "    <tr>\n",
       "      <th>Pet Supplies</th>\n",
       "      <td>5008.35124</td>\n",
       "    </tr>\n",
       "    <tr>\n",
       "      <th>Sports &amp; Outdoors</th>\n",
       "      <td>17764.24341</td>\n",
       "    </tr>\n",
       "    <tr>\n",
       "      <th>Tools &amp; Home Improvement</th>\n",
       "      <td>13514.71441</td>\n",
       "    </tr>\n",
       "    <tr>\n",
       "      <th>Toys &amp; Games</th>\n",
       "      <td>1721.36000</td>\n",
       "    </tr>\n",
       "    <tr>\n",
       "      <th>Video Games</th>\n",
       "      <td>2441.32000</td>\n",
       "    </tr>\n",
       "  </tbody>\n",
       "</table>\n",
       "</div>"
      ],
      "text/plain": [
       "                                     revenue\n",
       "                                         sum\n",
       "item_category                               \n",
       "Amazon Devices                    2316.43000\n",
       "Appliances                       24723.86418\n",
       "Arts, Crafts & Sewing            10837.76206\n",
       "Automotive                       11512.23009\n",
       "Automotive Parts & Accessories    1544.41000\n",
       "Baby                                29.72000\n",
       "Baby Products                     8434.81060\n",
       "Beauty & Personal Care           21716.81000\n",
       "Books                              184.06000\n",
       "Cell Phones & Accessories        23342.77269\n",
       "Clothing, Shoes & Jewelry        43791.64255\n",
       "Electronics                     113542.15526\n",
       "Garden & Outdoor                  2269.62000\n",
       "Grocery & Gourmet Food             766.18000\n",
       "Health & Household               17359.04432\n",
       "Health, Household & Baby Care     1998.98000\n",
       "Home & Kitchen                   80046.51975\n",
       "Industrial & Scientific           8229.67000\n",
       "Musical Instruments               5599.60695\n",
       "Office Products                   9128.02567\n",
       "Patio, Lawn & Garden             17079.53000\n",
       "Pet Supplies                      5008.35124\n",
       "Sports & Outdoors                17764.24341\n",
       "Tools & Home Improvement         13514.71441\n",
       "Toys & Games                      1721.36000\n",
       "Video Games                       2441.32000"
      ]
     },
     "execution_count": 108,
     "metadata": {},
     "output_type": "execute_result"
    }
   ],
   "source": [
    "df.loc[df.event_name=='purchase'].groupby(['item_category']).agg({'revenue' : ['sum']})\n"
   ]
  },
  {
   "cell_type": "markdown",
   "id": "a5e67733",
   "metadata": {},
   "source": [
    "#### Purchase to View Rate calculation\n",
    "(PR = P/N where P is the number of purchases and N is the number of events during which a conversion could have occurred)"
   ]
  },
  {
   "cell_type": "markdown",
   "id": "df46f969",
   "metadata": {},
   "source": [
    "#### Add to Cart Rate calculation\n",
    "(total number of sessions where someone adds an item to the cart and divide it by the total number of sessions)"
   ]
  },
  {
   "cell_type": "code",
   "execution_count": 95,
   "id": "5b345449",
   "metadata": {},
   "outputs": [
    {
     "data": {
      "text/plain": [
       "event_date               13.762877\n",
       "event_name               13.762877\n",
       "channel_grouping_user    13.762877\n",
       "device_category          13.762877\n",
       "session_id               13.762877\n",
       "user_pseudo_id           13.762877\n",
       "item_category            13.762877\n",
       "unique_items             13.762877\n",
       "item_quantity            13.762877\n",
       "revenue                   0.000000\n",
       "dtype: float64"
      ]
     },
     "execution_count": 95,
     "metadata": {},
     "output_type": "execute_result"
    }
   ],
   "source": [
    "df.loc[df['event_name'] == 'add_to_cart'].count() / df['session_id'].nunique() * 100"
   ]
  },
  {
   "cell_type": "markdown",
   "id": "334d6908",
   "metadata": {},
   "source": [
    "#### Purchase to Cart Rate Calculation"
   ]
  },
  {
   "cell_type": "code",
   "execution_count": 100,
   "id": "51bc4e75",
   "metadata": {},
   "outputs": [
    {
     "data": {
      "text/plain": [
       "event_date               4.620511\n",
       "event_name               4.620511\n",
       "channel_grouping_user    4.620511\n",
       "device_category          4.620511\n",
       "session_id               4.620511\n",
       "user_pseudo_id           4.620511\n",
       "item_category            4.620511\n",
       "unique_items             4.620511\n",
       "item_quantity            4.620511\n",
       "revenue                       inf\n",
       "dtype: float64"
      ]
     },
     "execution_count": 100,
     "metadata": {},
     "output_type": "execute_result"
    }
   ],
   "source": [
    "df.loc[df['event_name'] == 'purchase'].count() / df.loc[df['event_name'] == 'add_to_cart'].count() * 100"
   ]
  },
  {
   "cell_type": "markdown",
   "id": "db0ca312",
   "metadata": {},
   "source": [
    "#### Calculating ASP"
   ]
  },
  {
   "cell_type": "markdown",
   "id": "2d23d5c8",
   "metadata": {},
   "source": [
    "calculate avg revenues sorting buy items\n"
   ]
  },
  {
   "cell_type": "code",
   "execution_count": 112,
   "id": "e8158f12",
   "metadata": {
    "scrolled": true
   },
   "outputs": [
    {
     "data": {
      "text/html": [
       "<div>\n",
       "<style scoped>\n",
       "    .dataframe tbody tr th:only-of-type {\n",
       "        vertical-align: middle;\n",
       "    }\n",
       "\n",
       "    .dataframe tbody tr th {\n",
       "        vertical-align: top;\n",
       "    }\n",
       "\n",
       "    .dataframe thead tr th {\n",
       "        text-align: left;\n",
       "    }\n",
       "\n",
       "    .dataframe thead tr:last-of-type th {\n",
       "        text-align: right;\n",
       "    }\n",
       "</style>\n",
       "<table border=\"1\" class=\"dataframe\">\n",
       "  <thead>\n",
       "    <tr>\n",
       "      <th></th>\n",
       "      <th>revenue</th>\n",
       "    </tr>\n",
       "    <tr>\n",
       "      <th></th>\n",
       "      <th>mean</th>\n",
       "    </tr>\n",
       "    <tr>\n",
       "      <th>item_category</th>\n",
       "      <th></th>\n",
       "    </tr>\n",
       "  </thead>\n",
       "  <tbody>\n",
       "    <tr>\n",
       "      <th>Amazon Devices</th>\n",
       "      <td>463.286000</td>\n",
       "    </tr>\n",
       "    <tr>\n",
       "      <th>Appliances</th>\n",
       "      <td>321.089145</td>\n",
       "    </tr>\n",
       "    <tr>\n",
       "      <th>Arts, Crafts &amp; Sewing</th>\n",
       "      <td>516.083908</td>\n",
       "    </tr>\n",
       "    <tr>\n",
       "      <th>Automotive</th>\n",
       "      <td>177.111232</td>\n",
       "    </tr>\n",
       "    <tr>\n",
       "      <th>Automotive Parts &amp; Accessories</th>\n",
       "      <td>386.102500</td>\n",
       "    </tr>\n",
       "    <tr>\n",
       "      <th>Baby</th>\n",
       "      <td>29.720000</td>\n",
       "    </tr>\n",
       "    <tr>\n",
       "      <th>Baby Products</th>\n",
       "      <td>337.392424</td>\n",
       "    </tr>\n",
       "    <tr>\n",
       "      <th>Beauty &amp; Personal Care</th>\n",
       "      <td>305.870563</td>\n",
       "    </tr>\n",
       "    <tr>\n",
       "      <th>Books</th>\n",
       "      <td>184.060000</td>\n",
       "    </tr>\n",
       "    <tr>\n",
       "      <th>Cell Phones &amp; Accessories</th>\n",
       "      <td>359.119580</td>\n",
       "    </tr>\n",
       "    <tr>\n",
       "      <th>Clothing, Shoes &amp; Jewelry</th>\n",
       "      <td>534.044421</td>\n",
       "    </tr>\n",
       "    <tr>\n",
       "      <th>Electronics</th>\n",
       "      <td>349.360478</td>\n",
       "    </tr>\n",
       "    <tr>\n",
       "      <th>Garden &amp; Outdoor</th>\n",
       "      <td>378.270000</td>\n",
       "    </tr>\n",
       "    <tr>\n",
       "      <th>Grocery &amp; Gourmet Food</th>\n",
       "      <td>255.393333</td>\n",
       "    </tr>\n",
       "    <tr>\n",
       "      <th>Health &amp; Household</th>\n",
       "      <td>251.580352</td>\n",
       "    </tr>\n",
       "    <tr>\n",
       "      <th>Health, Household &amp; Baby Care</th>\n",
       "      <td>199.898000</td>\n",
       "    </tr>\n",
       "    <tr>\n",
       "      <th>Home &amp; Kitchen</th>\n",
       "      <td>584.281166</td>\n",
       "    </tr>\n",
       "    <tr>\n",
       "      <th>Industrial &amp; Scientific</th>\n",
       "      <td>235.133429</td>\n",
       "    </tr>\n",
       "    <tr>\n",
       "      <th>Musical Instruments</th>\n",
       "      <td>622.178550</td>\n",
       "    </tr>\n",
       "    <tr>\n",
       "      <th>Office Products</th>\n",
       "      <td>314.759506</td>\n",
       "    </tr>\n",
       "    <tr>\n",
       "      <th>Patio, Lawn &amp; Garden</th>\n",
       "      <td>426.988250</td>\n",
       "    </tr>\n",
       "    <tr>\n",
       "      <th>Pet Supplies</th>\n",
       "      <td>417.362603</td>\n",
       "    </tr>\n",
       "    <tr>\n",
       "      <th>Sports &amp; Outdoors</th>\n",
       "      <td>269.155203</td>\n",
       "    </tr>\n",
       "    <tr>\n",
       "      <th>Tools &amp; Home Improvement</th>\n",
       "      <td>337.867860</td>\n",
       "    </tr>\n",
       "    <tr>\n",
       "      <th>Toys &amp; Games</th>\n",
       "      <td>107.585000</td>\n",
       "    </tr>\n",
       "    <tr>\n",
       "      <th>Video Games</th>\n",
       "      <td>122.066000</td>\n",
       "    </tr>\n",
       "  </tbody>\n",
       "</table>\n",
       "</div>"
      ],
      "text/plain": [
       "                                   revenue\n",
       "                                      mean\n",
       "item_category                             \n",
       "Amazon Devices                  463.286000\n",
       "Appliances                      321.089145\n",
       "Arts, Crafts & Sewing           516.083908\n",
       "Automotive                      177.111232\n",
       "Automotive Parts & Accessories  386.102500\n",
       "Baby                             29.720000\n",
       "Baby Products                   337.392424\n",
       "Beauty & Personal Care          305.870563\n",
       "Books                           184.060000\n",
       "Cell Phones & Accessories       359.119580\n",
       "Clothing, Shoes & Jewelry       534.044421\n",
       "Electronics                     349.360478\n",
       "Garden & Outdoor                378.270000\n",
       "Grocery & Gourmet Food          255.393333\n",
       "Health & Household              251.580352\n",
       "Health, Household & Baby Care   199.898000\n",
       "Home & Kitchen                  584.281166\n",
       "Industrial & Scientific         235.133429\n",
       "Musical Instruments             622.178550\n",
       "Office Products                 314.759506\n",
       "Patio, Lawn & Garden            426.988250\n",
       "Pet Supplies                    417.362603\n",
       "Sports & Outdoors               269.155203\n",
       "Tools & Home Improvement        337.867860\n",
       "Toys & Games                    107.585000\n",
       "Video Games                     122.066000"
      ]
     },
     "execution_count": 112,
     "metadata": {},
     "output_type": "execute_result"
    }
   ],
   "source": [
    "df.loc[df.event_name=='purchase'].groupby(['item_category']).agg({'revenue' : ['mean']})\n"
   ]
  },
  {
   "cell_type": "markdown",
   "id": "f6e956e9",
   "metadata": {},
   "source": [
    "### Now let's add a column with week day names and find out on which day do we have the most sales"
   ]
  },
  {
   "cell_type": "code",
   "execution_count": 115,
   "id": "14d6d62c",
   "metadata": {},
   "outputs": [
    {
     "data": {
      "text/html": [
       "<div>\n",
       "<style scoped>\n",
       "    .dataframe tbody tr th:only-of-type {\n",
       "        vertical-align: middle;\n",
       "    }\n",
       "\n",
       "    .dataframe tbody tr th {\n",
       "        vertical-align: top;\n",
       "    }\n",
       "\n",
       "    .dataframe thead th {\n",
       "        text-align: right;\n",
       "    }\n",
       "</style>\n",
       "<table border=\"1\" class=\"dataframe\">\n",
       "  <thead>\n",
       "    <tr style=\"text-align: right;\">\n",
       "      <th></th>\n",
       "      <th>event_date</th>\n",
       "      <th>event_name</th>\n",
       "      <th>channel_grouping_user</th>\n",
       "      <th>device_category</th>\n",
       "      <th>session_id</th>\n",
       "      <th>user_pseudo_id</th>\n",
       "      <th>item_category</th>\n",
       "      <th>unique_items</th>\n",
       "      <th>item_quantity</th>\n",
       "      <th>revenue</th>\n",
       "      <th>day_of_week</th>\n",
       "    </tr>\n",
       "  </thead>\n",
       "  <tbody>\n",
       "    <tr>\n",
       "      <th>0</th>\n",
       "      <td>2022-10-01</td>\n",
       "      <td>session_start</td>\n",
       "      <td>Paid Search</td>\n",
       "      <td>mobile</td>\n",
       "      <td>1664651196</td>\n",
       "      <td>1.029658e+09</td>\n",
       "      <td>NaN</td>\n",
       "      <td>NaN</td>\n",
       "      <td>NaN</td>\n",
       "      <td>NaN</td>\n",
       "      <td>Saturday</td>\n",
       "    </tr>\n",
       "    <tr>\n",
       "      <th>1</th>\n",
       "      <td>2022-10-01</td>\n",
       "      <td>session_start</td>\n",
       "      <td>Paid Search</td>\n",
       "      <td>mobile</td>\n",
       "      <td>1664656701</td>\n",
       "      <td>1.147645e+09</td>\n",
       "      <td>NaN</td>\n",
       "      <td>NaN</td>\n",
       "      <td>NaN</td>\n",
       "      <td>NaN</td>\n",
       "      <td>Saturday</td>\n",
       "    </tr>\n",
       "    <tr>\n",
       "      <th>2</th>\n",
       "      <td>2022-10-01</td>\n",
       "      <td>session_start</td>\n",
       "      <td>Paid Search</td>\n",
       "      <td>mobile</td>\n",
       "      <td>1664643763</td>\n",
       "      <td>1.483774e+07</td>\n",
       "      <td>NaN</td>\n",
       "      <td>NaN</td>\n",
       "      <td>NaN</td>\n",
       "      <td>NaN</td>\n",
       "      <td>Saturday</td>\n",
       "    </tr>\n",
       "    <tr>\n",
       "      <th>3</th>\n",
       "      <td>2022-10-01</td>\n",
       "      <td>view_search_results</td>\n",
       "      <td>Paid Search</td>\n",
       "      <td>mobile</td>\n",
       "      <td>1664643763</td>\n",
       "      <td>1.483774e+07</td>\n",
       "      <td>NaN</td>\n",
       "      <td>NaN</td>\n",
       "      <td>NaN</td>\n",
       "      <td>NaN</td>\n",
       "      <td>Saturday</td>\n",
       "    </tr>\n",
       "    <tr>\n",
       "      <th>4</th>\n",
       "      <td>2022-10-01</td>\n",
       "      <td>session_start</td>\n",
       "      <td>Paid Search</td>\n",
       "      <td>mobile</td>\n",
       "      <td>1664669276</td>\n",
       "      <td>1.618377e+09</td>\n",
       "      <td>NaN</td>\n",
       "      <td>NaN</td>\n",
       "      <td>NaN</td>\n",
       "      <td>NaN</td>\n",
       "      <td>Saturday</td>\n",
       "    </tr>\n",
       "  </tbody>\n",
       "</table>\n",
       "</div>"
      ],
      "text/plain": [
       "  event_date           event_name channel_grouping_user device_category  \\\n",
       "0 2022-10-01        session_start           Paid Search          mobile   \n",
       "1 2022-10-01        session_start           Paid Search          mobile   \n",
       "2 2022-10-01        session_start           Paid Search          mobile   \n",
       "3 2022-10-01  view_search_results           Paid Search          mobile   \n",
       "4 2022-10-01        session_start           Paid Search          mobile   \n",
       "\n",
       "   session_id  user_pseudo_id item_category  unique_items  item_quantity  \\\n",
       "0  1664651196    1.029658e+09           NaN           NaN            NaN   \n",
       "1  1664656701    1.147645e+09           NaN           NaN            NaN   \n",
       "2  1664643763    1.483774e+07           NaN           NaN            NaN   \n",
       "3  1664643763    1.483774e+07           NaN           NaN            NaN   \n",
       "4  1664669276    1.618377e+09           NaN           NaN            NaN   \n",
       "\n",
       "   revenue day_of_week  \n",
       "0      NaN    Saturday  \n",
       "1      NaN    Saturday  \n",
       "2      NaN    Saturday  \n",
       "3      NaN    Saturday  \n",
       "4      NaN    Saturday  "
      ]
     },
     "execution_count": 115,
     "metadata": {},
     "output_type": "execute_result"
    }
   ],
   "source": [
    "df['day_of_week'] = df['event_date'].dt.day_name()\n",
    "df.head()"
   ]
  },
  {
   "cell_type": "code",
   "execution_count": 125,
   "id": "8b1d6031",
   "metadata": {},
   "outputs": [
    {
     "data": {
      "text/html": [
       "<div>\n",
       "<style scoped>\n",
       "    .dataframe tbody tr th:only-of-type {\n",
       "        vertical-align: middle;\n",
       "    }\n",
       "\n",
       "    .dataframe tbody tr th {\n",
       "        vertical-align: top;\n",
       "    }\n",
       "\n",
       "    .dataframe thead tr th {\n",
       "        text-align: left;\n",
       "    }\n",
       "\n",
       "    .dataframe thead tr:last-of-type th {\n",
       "        text-align: right;\n",
       "    }\n",
       "</style>\n",
       "<table border=\"1\" class=\"dataframe\">\n",
       "  <thead>\n",
       "    <tr>\n",
       "      <th></th>\n",
       "      <th>revenue</th>\n",
       "    </tr>\n",
       "    <tr>\n",
       "      <th></th>\n",
       "      <th>count</th>\n",
       "    </tr>\n",
       "    <tr>\n",
       "      <th>day_of_week</th>\n",
       "      <th></th>\n",
       "    </tr>\n",
       "  </thead>\n",
       "  <tbody>\n",
       "    <tr>\n",
       "      <th>Friday</th>\n",
       "      <td>157</td>\n",
       "    </tr>\n",
       "    <tr>\n",
       "      <th>Monday</th>\n",
       "      <td>174</td>\n",
       "    </tr>\n",
       "    <tr>\n",
       "      <th>Saturday</th>\n",
       "      <td>183</td>\n",
       "    </tr>\n",
       "    <tr>\n",
       "      <th>Sunday</th>\n",
       "      <td>156</td>\n",
       "    </tr>\n",
       "    <tr>\n",
       "      <th>Thursday</th>\n",
       "      <td>198</td>\n",
       "    </tr>\n",
       "    <tr>\n",
       "      <th>Tuesday</th>\n",
       "      <td>187</td>\n",
       "    </tr>\n",
       "    <tr>\n",
       "      <th>Wednesday</th>\n",
       "      <td>179</td>\n",
       "    </tr>\n",
       "  </tbody>\n",
       "</table>\n",
       "</div>"
      ],
      "text/plain": [
       "            revenue\n",
       "              count\n",
       "day_of_week        \n",
       "Friday          157\n",
       "Monday          174\n",
       "Saturday        183\n",
       "Sunday          156\n",
       "Thursday        198\n",
       "Tuesday         187\n",
       "Wednesday       179"
      ]
     },
     "execution_count": 125,
     "metadata": {},
     "output_type": "execute_result"
    }
   ],
   "source": [
    "df.loc[df.event_name=='purchase'].groupby(['day_of_week']).agg({'revenue' : ['count']})"
   ]
  },
  {
   "cell_type": "code",
   "execution_count": 126,
   "id": "24e26786",
   "metadata": {},
   "outputs": [
    {
     "data": {
      "text/html": [
       "<div>\n",
       "<style scoped>\n",
       "    .dataframe tbody tr th:only-of-type {\n",
       "        vertical-align: middle;\n",
       "    }\n",
       "\n",
       "    .dataframe tbody tr th {\n",
       "        vertical-align: top;\n",
       "    }\n",
       "\n",
       "    .dataframe thead tr th {\n",
       "        text-align: left;\n",
       "    }\n",
       "\n",
       "    .dataframe thead tr:last-of-type th {\n",
       "        text-align: right;\n",
       "    }\n",
       "</style>\n",
       "<table border=\"1\" class=\"dataframe\">\n",
       "  <thead>\n",
       "    <tr>\n",
       "      <th></th>\n",
       "      <th>revenue</th>\n",
       "    </tr>\n",
       "    <tr>\n",
       "      <th></th>\n",
       "      <th>sum</th>\n",
       "    </tr>\n",
       "    <tr>\n",
       "      <th>day_of_week</th>\n",
       "      <th></th>\n",
       "    </tr>\n",
       "  </thead>\n",
       "  <tbody>\n",
       "    <tr>\n",
       "      <th>Friday</th>\n",
       "      <td>48026.41476</td>\n",
       "    </tr>\n",
       "    <tr>\n",
       "      <th>Monday</th>\n",
       "      <td>62034.85351</td>\n",
       "    </tr>\n",
       "    <tr>\n",
       "      <th>Saturday</th>\n",
       "      <td>41643.80360</td>\n",
       "    </tr>\n",
       "    <tr>\n",
       "      <th>Sunday</th>\n",
       "      <td>91051.60681</td>\n",
       "    </tr>\n",
       "    <tr>\n",
       "      <th>Thursday</th>\n",
       "      <td>70262.85036</td>\n",
       "    </tr>\n",
       "    <tr>\n",
       "      <th>Tuesday</th>\n",
       "      <td>59643.46642</td>\n",
       "    </tr>\n",
       "    <tr>\n",
       "      <th>Wednesday</th>\n",
       "      <td>72240.83772</td>\n",
       "    </tr>\n",
       "  </tbody>\n",
       "</table>\n",
       "</div>"
      ],
      "text/plain": [
       "                 revenue\n",
       "                     sum\n",
       "day_of_week             \n",
       "Friday       48026.41476\n",
       "Monday       62034.85351\n",
       "Saturday     41643.80360\n",
       "Sunday       91051.60681\n",
       "Thursday     70262.85036\n",
       "Tuesday      59643.46642\n",
       "Wednesday    72240.83772"
      ]
     },
     "execution_count": 126,
     "metadata": {},
     "output_type": "execute_result"
    }
   ],
   "source": [
    "df.loc[df.event_name=='purchase'].groupby(['day_of_week']).agg({'revenue' : ['sum']})"
   ]
  },
  {
   "cell_type": "code",
   "execution_count": null,
   "id": "98ba1dc1",
   "metadata": {},
   "outputs": [],
   "source": []
  }
 ],
 "metadata": {
  "kernelspec": {
   "display_name": "Python 3 (ipykernel)",
   "language": "python",
   "name": "python3"
  },
  "language_info": {
   "codemirror_mode": {
    "name": "ipython",
    "version": 3
   },
   "file_extension": ".py",
   "mimetype": "text/x-python",
   "name": "python",
   "nbconvert_exporter": "python",
   "pygments_lexer": "ipython3",
   "version": "3.9.12"
  }
 },
 "nbformat": 4,
 "nbformat_minor": 5
}
